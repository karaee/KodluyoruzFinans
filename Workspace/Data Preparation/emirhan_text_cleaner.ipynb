{
 "cells": [
  {
   "cell_type": "code",
   "execution_count": 1,
   "metadata": {
    "id": "8XrDMPo3iQ4q"
   },
   "outputs": [],
   "source": [
    "from os.path import join\n",
    "import jpype\n",
    "from jpype import JClass, JString, getDefaultJVMPath, shutdownJVM, startJVM, isJVMStarted\n",
    "import pandas as pd\n",
    "import numpy as np\n",
    "import re\n",
    "from tqdm import tqdm"
   ]
  },
  {
   "cell_type": "code",
   "execution_count": 11,
   "metadata": {
    "id": "QDkw6jWOiQ4v"
   },
   "outputs": [],
   "source": [
    "from os.path import join\n",
    "import jpype\n",
    "from jpype import JClass, JString, getDefaultJVMPath, shutdownJVM, startJVM, isJVMStarted\n",
    "import pandas as pd\n",
    "import numpy as np\n",
    "import re\n",
    "\n",
    "class Text_Cleaner:\n",
    "    \n",
    "    def __init__(self,):\n",
    "        self.zemberek() \n",
    "              \n",
    "    def text_cleaner(self,ds): #data_Seri - data.content\n",
    "        # kullanmadan önce dropna yap\n",
    "        array = []\n",
    "        ds = ds.apply(lambda x: self.norm_doc(str(x)))\n",
    "        ds = ds.str.replace(\"I\",\"ı\").str.replace(\"İ\",\"i\").str.lower().str.replace(\"[^\\w\\s]\",\" \")\n",
    "        ds = ds.apply(lambda x: re.sub(r'\\b\\w\\b', \"\", x))#zembereksiz için\n",
    "        return ds#zembereksiz için\n",
    "#         for i in tqdm(ds): #kelime --> zemberek\n",
    "#             a =  \"\"\n",
    "#             for t in i.split():\n",
    "#                 try:  \n",
    "#                     results: WordAnalysis = self.morphology.analyze(JString(t))\n",
    "                        \n",
    "#                     if \"Neg\" in str(list(results)[0].formatLong()):\n",
    "#                         wrd = str(list(results)[0].getLemmas()[1])\n",
    "#                     else:\n",
    "#                         wrd = str(list(results)[0].getStems()[0])\n",
    "#                     a +=  wrd + \" \" \n",
    "\n",
    "#                 except:\n",
    "#                     continue\n",
    "#             a = re.sub(r'\\b\\w\\b', \"\", a) # tekharfler silindi\n",
    "#             array.append(a)\n",
    "            \n",
    "#         return array\n",
    "        \n",
    "        \n",
    "        \n",
    "    def norm_doc(self,sentence): \n",
    "        sentence = re.sub(\"'[A-Za-z]+\", \"\", sentence) #tırnak eki silindi\n",
    "        \n",
    "        return re.sub(\"\\d+\", \"\", sentence) #sayılar silindi\n",
    "    \n",
    "    \n",
    "    def zemberek(self,):\n",
    "        ZEMBEREK_PATH: str = join('bin', 'zemberek-full.jar')\n",
    "        if not jpype.isJVMStarted():   \n",
    "            startJVM( getDefaultJVMPath(),'-ea',f'-Djava.class.path={ZEMBEREK_PATH}',convertStrings=False)\n",
    "        TurkishMorphology: JClass = JClass('zemberek.morphology.TurkishMorphology') # burada java'da import etmişsin gibi düşün\n",
    "        WordAnalysis: JClass = JClass('zemberek.morphology.analysis.WordAnalysis') # aynı şekilde\n",
    "        self.morphology: TurkishMorphology = TurkishMorphology.createWithDefaults() # burada da o import'u kullanıyorsun\n",
    "            \n",
    "    def zemberek_shutdown(self,):\n",
    "        shutdownJVM()\n",
    "    "
   ]
  },
  {
   "cell_type": "code",
   "execution_count": 12,
   "metadata": {
    "id": "bheRxchbiQ4x"
   },
   "outputs": [],
   "source": [
    "data = pd.read_csv(\"../Data/Labelled_news.csv\")\n"
   ]
  },
  {
   "cell_type": "code",
   "execution_count": 13,
   "metadata": {
    "id": "2TSxK2vpiQ4z"
   },
   "outputs": [],
   "source": [
    "tc = Text_Cleaner()"
   ]
  },
  {
   "cell_type": "code",
   "execution_count": 14,
   "metadata": {
    "id": "2KqQJQrViQ42"
   },
   "outputs": [],
   "source": [
    "data.content = tc.text_cleaner(data.content)"
   ]
  },
  {
   "cell_type": "code",
   "execution_count": 16,
   "metadata": {},
   "outputs": [],
   "source": [
    "data.to_csv(\"../Data/Zembereksiz_Labelled_news.csv\")"
   ]
  },
  {
   "cell_type": "code",
   "execution_count": 15,
   "metadata": {
    "id": "JuCSoT5FiQ44",
    "outputId": "31205231-dbd6-4cae-cad9-8643bb6cd53b"
   },
   "outputs": [
    {
     "data": {
      "text/plain": [
       "[' bıst  endeksi  dünü     artışla    puandan kapattı  böylece  gün düşüşten sonra  gün üst üste yükselmiş oldu  bankalar dinlenirken sanayi endeksi     yükseldi  borsa istanbul en kıymetli şirketleri arasında piyasa değerine göre sıralama yaptığımızda bir süredir deniz bank liderliği söz konusu   mart  kapanış itibariyle deniz bank  milyar tl    milyar    ile ilk sırada yer alırken koç holding   milyar tl ile ikinci sırada  üçüncü ve dördüncü biraz geriden geliyor  garanti bankası   milyar tl ile üçüncü  tüpraş   milyar tl ile dördüncü sırada   milyar tl ile akbank   milyar tl ile ereğli demir çelik ve   milyar tl ile turkcell  milyarı aşan diğer şirketler   son dakika bilgisi verelim  tcell genel müdürü terzioğlu ayrıldı  yeri için bugün açıklama yapılacak  çok değil  ay önce  ocak denizbank  milyar tl ile yine liderken koç holding  milyar tl  garanti bankası  milyar tl  akbank  milyar tl ile  milyarı aşan şirketlerdi  son dönemin sürpriz hissesi olan işbank ve tskb ortaklığındaki iş finansal kiralama ısfın  gün   milyar tl piyasa değeri ile   sırada iken dün  milyar tl barajını geçerek   sıraya yükseldi  ingiltere demokrasi şovu devam ediyor  kendi kaderlerini  kimsenin dediğine göre değil ortak akılla bulma çabalarını takdir ediyoruz   gündür süren farklı politikaların seçiminde ingiliz parlamentosu dünbrexit yeniden referanduma götürülmesini reddetti   brexit tarihinin daha uzun süreli ertelenmesini reddetti   brexit  haziran ertelenmesini kabul etti   brexit anlaşmasının  gün içinde yeniden oylanmasını kabul etti   ayrılık sürecini  mart  resmen başlatan ingiltere normal takvime göre bu  mart ab resmen ayrılması gerekiyor   marttaki ab liderler zirvesine nihai kararla gitmek istiyorlar   avrupa parlamentosu   mart oturumunda türkiye ab müzakerelerinin askıya alınmasının istendiği ap raporunu   karşı  oy ile kabul etmişti  bugün dışişleri bakanımız çavuşoğlu  avrupa birliği türkiye ortaklık konseyi toplantısına katılacak tüik bugün  geçen yılın aralık ayına ilişkin iş gücü istatistikleri ile ocak ayı perakende satış ve ciro endekslerini açıklayacak  tcmb de ocak ayına ilişkin kısa vadeli dış borç istatistiklerini duyuracak stratejıbıst    bini aşağı geçtiğinde hedge şart demiştik  ancak  bin sağlam destekti  yine de  bin geçilmeden iyimserlik zor  modelimiz    itibariyle  vıop xyvade  puan civarında artışla  bıst  ise     civarında artışla güne başlamasını öngörüyor  alnus yatırım',\n",
       " ' bankalar uçarken havayolları iniyor dolar güç kaybetmeye devam ediyor  dün de dolar endeksi     daha değer kaybetti  ancak tl yine bundan yararlanamadı ve     değer kaybederek   ye dayandı  dışarda  tl gibi rahatsız paralar arjantin pesosu ve brezilya realiydi  yine borsa önceki günkü gibi bankalar önderliğinde yükseldi  bıst  endeksi  günü     artışla   seviyesinden kapatırken bankalar endeksi     arttı  endeksteki  puanlık artışta garanti bankası  puanla akbank  puanla katkı yaptı  ancak günün en çok düşen endeksi     kayıpla ulaştırma endeksi oldu  pegasus      thy     düştü  thy  marttan beri  gündeki düşüş    aşmış oldu  fiyatlardaki düşüşte yabancıların hisse satışları etkili oluyor ki  hafta önce    olan yabancı payı    altına indi   ekim  de endonezya lion air ait boeing  max  uçağının düşmesi ile  kişi ölmüştü   mart  pazar günü de etiyopyaın başkenti addis ababa dan havalandıktan  dakika sonra boeing  max  uçağı düştü ve  farklı uyruktan  kişi öldü dünyanın en büyük uçak firmasının üretiminde kusurlu olup olmadığı incelemeye başlanırken dünyadaki havayolu firmaları da bu model uçakların uçuşunu durdurdu  thy de  uçağını  marttan itibaren park etti  avrupa havacılık emniyeti ajansı  easa   avrupa birliği genelinde uçakları yasaklarken dün de amerikan federal sivil havacılık kurumu  faa  yeni kanıtların ardından boeing  max  ve  modellerini geçici olarak yasakladı  açıklamayı trump duyurdu ingiltere de parlamentonun alt kanadı avam kamarasında yapılan oylamada ülkenin ab den anlaşmasız ayrılmasını her koşulda reddeden teklif   karşı  oyla kılpayı kabul edildi  bugünkü oylama ile  mart tarihinin ötelenmesi oylanacak  zira  bugüne kadar bir anlaşmayı beceremedik  bari öteleyip zaman kazanalım  istiyorlar  tabi bu durumda birleşik krallık ülkeleri   mayıs tarihlerinde avrupa parlamentosu seçimlerine de katılacak ki gereksiz maliyet olacak bugünkü oylamadan erteleme kararı çıkarsa bu talep  mart brüksel ab zirvesinde değerlendirilecek stratejıbıst    bini aşağı geçtiğinde hedge şart demiştik  ancak  bin sağlam destekti  yine de  bin geçilmeden iyimserlik zor modelimiz    itibariyle  vıop xyvade ve bıst  de yatay bir başlangıç öngörüyor  alnus yatırım',\n",
       " 'akbank  akbnk  öneri  ekle   nötr     banka tarafından     oranında bağlı ortaklığı ak finansal kiralama    ödenmiş sermayesinin bedelli olarak karşılanmak suretiyle mn tl artırılarak  mn tl  mn tl yükseltilmesi hususunda gereken işlemleri yapmak üzere genel müdürlük yetkili kılınmıştır \\r\\nziraat yatırım',\n",
       " 'alarko holding  alark  sınırlı pozitif   alarko holding  ana ortaklık net dönem karı  mn tl olarak gerçekleşmiştir  bir önceki yılın aynı döneminde holding  mn tl ana ortaklık net dönem karı kaydetmişti  satış gelirleri son çeyrekte bir önceki yılın aynı çeyreğine göre   oranında artan holdingin brüt karı  mn tl  mn tl yükselmiştir  diğer taraftan esas faaliyetlerden  mn tl net gider yazılmasına karşın  iştiraklerden kaydedilen gelirler  mn tl  mn tl çıkmış ve bu çeyrekte yüksek kar elde edilmesinde ana etken olmuştur  son çeyrek yüksek kar rakamına karşın holding  yılını mn tl ana ortaklık net dönem zararı ile kapamıştır  holding  yılında  mn tl ana ortaklık net dönem karı kaydetmişti \\r\\nziraat yatırımalarko holding  alark  sınırlı pozitif   alarko holding  ana ortaklık net dönem karı  mn tl olarak gerçekleşmiştir  bir önceki yılın aynı döneminde holding  mn tl ana ortaklık net dönem karı kaydetmişti  satış gelirleri son çeyrekte bir önceki yılın aynı çeyreğine göre   oranında artan holdingin brüt karı  mn tl  mn tl yükselmiştir  diğer taraftan esas faaliyetlerden  mn tl net gider yazılmasına karşın  iştiraklerden kaydedilen gelirler  mn tl  mn tl çıkmış ve bu çeyrekte yüksek kar elde edilmesinde ana etken olmuştur  ',\n",
       " 'hazine ve maliye bakanlığı  milyon tl sermaye ile ipotek finansman kurumu kurulmasına karar verdi konuya yakın ekonomi yetkililer ve kaynakların verdiği bilgiye göre  kurulacak kuruma  bankanın ortak olması bekleniyor kaynaklar bankalardan yüzde  ortak olmasının beklendiğini  diğer ortakların da hazine maliye bakanlığı  bıst  tspb ve tsp olacağını söyledi bir kaynak   bankadan bazıları kesin katılacak ancak ortak olacak diğer bankalar arasında genel kurullarında onay aldıktan sonra katılacak olan bankalar da var  şu anki liste katılmak isteyen bankaların listesi  dedi kaynakların verdiği bilgiye göre ortak olması beklenen bankalar arasında ziraat bankası  iş bankası   yapı kredi   halkbank vakıfbank   emlak bank  kalkınma bankası   burganbank  tskb  garanti bankası   akbank ve teb yer alıyor  reuters ',\n",
       " 'norveç varlık fonu yöneten norges bank verilerinden derlediği bilgilere göre  fon  varlığının bir bölümünü geçen yıl çeşitli alanlarda faaliyet gösteren ve borsaistanbul işlem gören farklı ölçekteki  şirketin hisselerine yatırdı dünyanın en büyük varlık fonu olan norveç varlık fonu söz konusu türk şirketlerinin hisselerine yaptığı toplam yatırım  milyon doları bulurken  portföyünde aygaz aş  kardemir karabük demir çelik sanayi ve ticaret aş  tüpraş türkiye petrol rafinerileri aş  petkim petrokimya holding aş  ereğli demir ve çelik fabrikaları  ulusoy elektrik imalat taahhüt ve ticaret aş  aksa enerji üretim aş ile enerjisa enerji aş olmak üzere  enerji şirketinin hisseleri yer aldı  fonun bu  türk enerji şirketindeki ortaklık hisse değeri  milyon dolar olarak kayda geçti varlık fonunun geçen yılın sonunda türkiye en büyük enerji yatırımı   milyon  bin dolarla tüpraş türkiye petrol rafinerileri aş olurken  onu  milyon  bin dolarlık ereğli demir ve çelik fabrikaları hissesi izledi en büyük yatırım garanti bankasıç varlık fonu  türkiye yatırımlarından en büyük payı türkiye garanti bankası aş aldı  garanti bankasıın yüzde   hissesine sahip olan fonun  söz konusu bankadaki toplam yatırımı  milyon  bin doları buldu söz konusu yatırımı  milyon dolarla akbank   milyon dolarla bim birleşik mağazalar aş ve  milyon dolarla türk hava yolları ao yatırımları izledi fonun türkiye portföyündeki en büyük hisse payı ise yüzde  üne ortak olduğu  doğtaşkelebek mobilya sanayi ve ticaret aş hisseleri oldu  söz konusu şirketin hisse senetlerine bağlanan toplam yatırım miktarı  milyon dolara yaklaştı türkiye  bu yana küçük yatırımlar yapan norveç varlık fonu   bu yana kaynaklarının bir kısmını yoğun şekilde türk şirketlerinin hisse senetlerinde değerlendiriyor fon trilyon dolarlık değere ulaştınorveç devlet varlık fonu   itibaren ülkenin petrol ve doğalgaz üretiminin getirisiyle yabancı ülkelerin hisse senetleri  tahvil ve emlak piyasalarına yatırım yapıyor  fonun stratejisine göre  yatırımların yüzde   hisse senetlerine  yüzde  sabit getirili menkul kıymetlere ve yüzde  gayrimenkule yönlendiriliyordu ancak  norveç hükümeti hisse senetlerine yapılan yatırımın payını yüzde  çıkardı norveç hükümeti  fon gelirlerinin yüzde  ünü kullanabiliyor  geriye kalan yüzde ık kısım ise biriktiriliyor  böylece norveç dışında  fazla ülkede   bine yakın firmaya yatırım yapılıyor fon  türkiye ilaç sanayii  bankacılık  gıda  iletişim hizmetleri  ulaşım ve beyaz eşya sektörlerinde faaliyet gösteren büyük şirketlerin hisseleriyle de ilgileniyor  fonun değeri  eylül  rekor kırarak ilk defa  trilyon dolar sınırını aşmıştı geçen yıl  varlık fonu tarafından küresel piyasada en büyük yatırımlar ise microsoft  apple ve amazon şirketlerine yapıldı ',\n",
       " 'bist   iskontolu ve cazip değerlemelerle işlem görüyor  bu iskontonun uzun vadede alım potansiyeli yaratabileceği kaydediliyor  biz de  kurumdan  hisse önerisi aldık  önerilerde aselsan  garanti  vakıfbank  thy  erdemir  soda sanayii  tüpraş öne çıkıyor \\r\\n\\r\\n ocak    kapanan bist   endeksi   haziran  kapanışını   gerçekleştirerek ayı piyasasına girmişti  sonraki dönemde ise yüzde  daha düşerek en dibi görmüştü   gelindiğinde ise  ocak   kapanan bist   geçen hafta  şubat   kapandı ve bu süreçte yüzde   getiriye ulaştı  bist zayıf dolar  gerileyen uzun dönemli faizler ve düşük değerlemeleri arkasına aldığının altı çiziliyor  bundan sonraki süreçte dikkatler  bist  ün yeni zirveler görüp göremeyeceğinde olacak  \\r\\nalnus yatırım araştırma müdürü yunus kaya  bist  ün geçen hafta   ulaşmasıyla teknik olarak boğa piyasasına girdiği bilgisini veriyor  bist seviyelerinin yüzde  yukarısının   denk geldiğini kaydeden kaya  bunun da eski zirve seviyeler olduğunu belirtiyor  kaya   haziran  bist    yüzde  olan yabancı payının şu anda yüzde   olduğunu da belirterek yükseliş potansiyeline dikkat çekiyor bist   iskontolu ve cazip değerlemelerle işlem görüyor  bu iskontonun uzun vadede alım potansiyeli yaratabileceği kaydediliyor  biz de  kurumdan  hisse önerisi aldık  önerilerde aselsan  garanti  vakıfbank  thy  erdemir  soda sanayii  tüpraş öne çıkıyor \\r\\n',\n",
       " '   yeni bir atak yaşanabilir \\r\\n\\r\\nibrahim usul teb yatırım araştırma müdürü \\r\\n bist  geçen hafta genelde alıcılı bir seyir gördük  bist  endeksi  hafta içinde   seviyesindeki ara direnç noktasını test etti  abd ve çin arasındaki ticaret görüşmelerinde uzlaşma beklentisinin  gelişen ülke piyasalarına süren fon girişinin  yurtdışı borsalardaki pozitif seyrin olumlu etkisi devam etti  geçen cuma günü ise piyasa üzerinde daha çok realizasyon amaçlı satışlar etkili oldu  bist yılbaşından beri etkili olan yükseliş eğiliminin kısa süreli ara düzeltmelerle bu hafta da sürmesi beklenebilir  endekste   ana direnç olarak ön plana çıkıyor  hafta içinde   bölgesine teknik olarak yeni bir atak yaşanabilir  bu seviyenin aşılması  endekste yılbaşından beri etkili olan yükselişin daha uzun süreye yayılmasını  endeksin     bandına yönelmesini sağlayacak     yeni bir atak yaşanabilir \\r\\n',\n",
       " 'aa muhabirinin derlediği bilgilere göre  borsada işlem gören akbank  denizbank  garanti bankası  halkbank  ıcbc turkey bank  iş bankası  qnb finansbank  şekerbank  vakıfbank ve yapı kredi konsolide olmayan toplam aktif büyüklüğü geçen yıl sonunda  trilyon  milyar  milyon liraya ulaştı bir önceki yıl sonuna kıyasla  milyar  milyon lira artış  gösteren aktif büyüklük   sonunda  trilyon  milyar  milyon lira  düzeyinde bulunuyordu  böylece aktif toplam son bir yıllık süreçte yüzde    artış gösterdi  bankaların kârı yüzde   arttıborsa istanbul işlem gören mevduat bankalarının  net kârı   yılına göre yüzde   artarak  milyar  milyon  bin lira oldu   bankalar    milyar   milyon  bin lira net kâr elde etmişti borsada işlem gören bankaların öz kaynakları  aynı dönemde yüzde    yükselerek  milyar  milyon  bin liradan  milyar  milyon  bin  liraya çıktı  söz konusu bankaların ortalama öz kaynak kârlılığı  sonu  itibarıyla yüzde   düzeyinde gerçekleşti   qnb finansbank ın kâr artışı yüzde    borsa istanbul mevduat bankaları arasında  en fazla net  kârı  milyar  milyon tl ile iş bankası elde etti  net kârda iş bankasıı   milyar  milyon lira ile garanti bankası ve  milyar  milyon lira ile akbank  izledi net kârını  yıl sonunda göre en çok artıran banka qnb finansbank  oldu  kâr artışı yüzde   olan qnb finansbank   yüzde   ile ıcbc turkey  bank ve yüzde   ile yapı kredi takip etti  aynı dönemde denizbank yüzde     vakıfbank yüzde    iş bankası yüzde   ve garanti bankası yüzde   kâr  artışı sağladı söz konusu  dönemde net kârı en fazla gerileyen banka yüzde  ük  düşüşle halkbank olurken  bu bankayı sırasıyla yüzde   azalışla şekerbank  ve yüzde   azalışla akbank izledi ortalama öz kaynak kârlılığı en yüksek banka ise qnb finansbank oldu   geçen yıl sonu itibarıyla ortalama öz kaynak kârlılığı yüzde   düzeyinde  bulunan qnb finansbank   yüzde   ile vakıfbank ve yüzde   ile denizbank  takip etti ziraat aktif büyüklüğü  milyar lirayı aştı borsa istanbul işlem görmeyen ziraat   milyar  milyon tl ile  türkiye en büyük aktif toplamına sahip bankası unvanını sürdürdü  geçen yıl  sonunda bankanın net dönem kârı   yıl sonuna kıyasla yüzde   artarak   milyar  milyon liradan  milyar  liraya yükseldi ziraat bankasıın  kârı  borsa istanbul  mevduat  bankasının toplam kârının yaklaşık  birine denk geliyor  bankanın ortalama öz kaynak kârlılığı da haziran sonu itibarıyla yüzde    seviyesinde gerçekleşti    türk bankacılık sektörünün kârı   milyar lirabu arada  bankacılık düzenleme ve denetleme kurumu  bddk  verilerine  göre  türk bankacılık sektörünün dönem net kârı  geçen yıl sonunda  yılına  kıyasla yüzde   artarak  milyar  milyon liraya yükseldi  bankalar     milyar  milyon lira kâr elde etmişti bankacılık sektörünün  yıl sonunda aktif büyüklüğü  trilyon   milyar  milyon lira düzeyinde oldu  ',\n",
       " 'alkim kimya  alkım  nötr   alkim kimyaın  ana ortaklık net dönem karı bir önceki yılın aynı dönemine göre    oranında artarak  mn tl olmuştur  diğer yandan  brüt kar ise aynı dönemler itibariyle    oranında artarak  mn tl ulaşmıştır  brüt kar marjı ise   puan artışla    göstermiştir  alkim kimyaın operasyonel giderleri aynı dönemde    oranında artmış ve  mn tl olmuştur  diğer faaliyetlerden de  mn tl gider kaydedilmesinin ardından faaliyet karı  mn tl olmuştur   faaliyet karı  mn tl idi  faaliyet karı marjı ise   puan düşüşle    göstermiştir  yatırım faaliyetlerinden  mn tl gelir kaydeden şirketin finansman öncesi karı  mn tl olmuştur  finansman tarafında  mn tl gelir kaydedilmiştir  tüm bunların etkisiyle de vergi öncesi net kar  mn tl seviyesinde gerçekleşirken  ana ortaklık net dönem karı da  mn tl olmuştur    çeyrek kar rakamıyla birlikte şirket  yılı ana ortaklık net dönem karı ise  göre   oranında artarak  mn tl olarak gerçekleşmiştir \\r\\n\\r\\nşirket ayrıca  yılı karından hisse başına brüt   tl  net    kar payı dağıtımı teklifini genel kurul onayına sunmaya karar verdi  teklif edilen kar payı dağıtımı tarihi  nisan   dünkü hisse kapanış fiyatına göre temettü verimi    olarak hesaplanmaktadır  genel kurul tarihi  mart   alkim kimya  alkım  nötr   alkim kimyaın  ana ortaklık net dönem karı bir önceki yılın aynı dönemine göre    oranında artarak  mn tl olmuştur  diğer yandan  brüt kar ise aynı dönemler itibariyle    oranında artarak  mn tl ulaşmıştır  brüt kar marjı ise   puan artışla    göstermiştir  alkim kimyaın operasyonel giderleri aynı dönemde    oranında artmış ve  mn tl olmuştur  diğer faaliyetlerden de  mn tl gider kaydedilmesinin ardından faaliyet karı  mn tl olmuştur   faaliyet karı  mn tl idi  faaliyet karı marjı ise   puan düşüşle    göstermiştir  yatırım faaliyetlerinden  mn tl gelir kaydeden şirketin finansman öncesi karı  mn tl olmuştur  finansman tarafında  mn tl gelir kaydedilmiştir  tüm bunların etkisiyle de vergi öncesi net kar  mn tl seviyesinde gerçekleşirken  ana ortaklık net dönem karı da  mn tl olmuştur    çeyrek kar rakamıyla birlikte şirket  yılı ana ortaklık net dönem karı ise  göre   oranında artarak  mn tl olarak gerçekleşmiştir \\r\\n']"
      ]
     },
     "execution_count": 15,
     "metadata": {},
     "output_type": "execute_result"
    }
   ],
   "source": [
    "data.content.head(10).tolist()"
   ]
  },
  {
   "cell_type": "code",
   "execution_count": null,
   "metadata": {
    "id": "n3BAdSJwiQ47"
   },
   "outputs": [],
   "source": []
  }
 ],
 "metadata": {
  "colab": {
   "name": "text_cleaner.ipynb",
   "provenance": []
  },
  "kernelspec": {
   "display_name": "myenv",
   "language": "python",
   "name": "myenv"
  },
  "language_info": {
   "codemirror_mode": {
    "name": "ipython",
    "version": 3
   },
   "file_extension": ".py",
   "mimetype": "text/x-python",
   "name": "python",
   "nbconvert_exporter": "python",
   "pygments_lexer": "ipython3",
   "version": "3.7.6"
  }
 },
 "nbformat": 4,
 "nbformat_minor": 4
}
