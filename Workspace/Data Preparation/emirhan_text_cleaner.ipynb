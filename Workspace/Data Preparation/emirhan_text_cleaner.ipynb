{
 "cells": [
  {
   "cell_type": "code",
   "execution_count": 2,
   "metadata": {
    "id": "8XrDMPo3iQ4q"
   },
   "outputs": [],
   "source": [
    "from os.path import join\n",
    "import jpype\n",
    "from jpype import JClass, JString, getDefaultJVMPath, shutdownJVM, startJVM, isJVMStarted\n",
    "import pandas as pd\n",
    "import numpy as np\n",
    "import re\n",
    "from tqdm import tqdm"
   ]
  },
  {
   "cell_type": "code",
   "execution_count": 3,
   "metadata": {
    "id": "QDkw6jWOiQ4v"
   },
   "outputs": [],
   "source": [
    "from os.path import join\n",
    "import jpype\n",
    "from jpype import JClass, JString, getDefaultJVMPath, shutdownJVM, startJVM, isJVMStarted\n",
    "import pandas as pd\n",
    "import numpy as np\n",
    "import re\n",
    "\n",
    "class Text_Cleaner:\n",
    "    \n",
    "    def __init__(self,):\n",
    "        self.zemberek() \n",
    "              \n",
    "    def text_cleaner(self,ds): #data_Seri - data.content\n",
    "        # kullanmadan önce dropna yap\n",
    "        array = []\n",
    "        ds = ds.apply(lambda x: self.norm_doc(str(x)))\n",
    "        ds = ds.str.replace(\"I\",\"ı\").str.replace(\"İ\",\"i\").str.lower().str.replace(\"[^\\w\\s]\",\" \")\n",
    "#         ds = ds.apply(lambda x: re.sub(r'\\b\\w\\b', \"\", x))#zembereksiz için\n",
    "#         return ds#zembereksiz için\n",
    "        for i in tqdm(ds): #kelime --> zemberek\n",
    "            a =  \"\"\n",
    "            for t in i.split():\n",
    "                try:  \n",
    "                    results: WordAnalysis = self.morphology.analyze(JString(t))\n",
    "                        \n",
    "                    if \"Neg\" in str(list(results)[0].formatLong()):\n",
    "                        wrd = str(list(results)[0].getLemmas()[1])\n",
    "                    else:\n",
    "                        wrd = str(list(results)[0].getStems()[0])\n",
    "                    a +=  wrd + \" \" \n",
    "\n",
    "                except:\n",
    "                    continue\n",
    "            a = re.sub(r'\\b\\w\\b', \"\", a) # tekharfler silindi\n",
    "            array.append(a)\n",
    "            \n",
    "        return array\n",
    "        \n",
    "        \n",
    "        \n",
    "    def norm_doc(self,sentence): \n",
    "        sentence = re.sub(\"'[A-Za-z]+\", \"\", sentence) #tırnak eki silindi\n",
    "        \n",
    "        return re.sub(\"\\d+\", \"\", sentence) #sayılar silindi\n",
    "    \n",
    "    \n",
    "    def zemberek(self,):\n",
    "        ZEMBEREK_PATH: str = join('bin', 'zemberek-full.jar')\n",
    "        if not jpype.isJVMStarted():   \n",
    "            startJVM( getDefaultJVMPath(),'-ea',f'-Djava.class.path={ZEMBEREK_PATH}',convertStrings=False)\n",
    "        TurkishMorphology: JClass = JClass('zemberek.morphology.TurkishMorphology') # burada java'da import etmişsin gibi düşün\n",
    "        WordAnalysis: JClass = JClass('zemberek.morphology.analysis.WordAnalysis') # aynı şekilde\n",
    "        self.morphology: TurkishMorphology = TurkishMorphology.createWithDefaults() # burada da o import'u kullanıyorsun\n",
    "            \n",
    "    def zemberek_shutdown(self,):\n",
    "        shutdownJVM()\n",
    "    "
   ]
  },
  {
   "cell_type": "code",
   "execution_count": 4,
   "metadata": {
    "id": "bheRxchbiQ4x"
   },
   "outputs": [],
   "source": [
    "data = pd.read_csv(\"../Data/Labelled_temiz_banka_news.csv\")\n"
   ]
  },
  {
   "cell_type": "code",
   "execution_count": 5,
   "metadata": {
    "id": "2TSxK2vpiQ4z"
   },
   "outputs": [],
   "source": [
    "tc = Text_Cleaner()"
   ]
  },
  {
   "cell_type": "code",
   "execution_count": 7,
   "metadata": {
    "id": "2KqQJQrViQ42"
   },
   "outputs": [
    {
     "name": "stderr",
     "output_type": "stream",
     "text": [
      "100%|████████████████████████████████████████████████████████████████████████████| 10589/10589 [04:22<00:00, 40.29it/s]\n"
     ]
    }
   ],
   "source": [
    "data.content = tc.text_cleaner(data.content)"
   ]
  },
  {
   "cell_type": "code",
   "execution_count": 11,
   "metadata": {},
   "outputs": [],
   "source": [
    "data.to_csv(\"../Data/Zemberekli_temiz_banka_Labelled_news.csv\")"
   ]
  },
  {
   "cell_type": "code",
   "execution_count": 10,
   "metadata": {
    "id": "JuCSoT5FiQ44",
    "outputId": "31205231-dbd6-4cae-cad9-8643bb6cd53b"
   },
   "outputs": [
    {
     "data": {
      "text/plain": [
       "['bıst endeks dü art puan kapat böylece gün düş sonra gün üst üs yüksel ol banka dinlen sanayi endeks yüksel borsa istanbul en kıymet şirket ara piyasa değer göre yap bir süre de bank lider söz konu mart kapan itibari de bank milyar tl milyar ile ilk sıra ye al koç holding milyar tl ile ikinci sıra üçüncü ve dördüncü biraz geri gel garanti banka milyar tl ile üçüncü tüpraş milyar tl ile dördüncü sıra milyar tl ile akbank milyar tl ile ereğli demir çelik ve milyar tl ile turkcell milyar aş diğer şirket son dakika bilgi ver genel müdür terzioğlu ayrıl yer için bugün yap çok değil ay önce ocak denizbank milyar tl ile yine lider koç holding milyar tl garanti banka milyar tl akbank milyar tl ile milyar aş şirket son döne sürpriz hisse ol işbank ve tskb ortaklığ iş finansal  gün milyar tl piyasa değer ile sıra iken dün milyar tl baraj geç sıra yüksel ingiltere demokrasi şov devam ed kendi kader kimse de göre değil ortak akıl çaba takdir ed gün sür fark politika seçim ingiliz parlamento yeniden referandum götür reddet tarih daha uzun sür ertele reddet haziran ertele kabul et anlaşma gün içinde yeniden oyla kabul et ayrılık sürec mart resmen başla ingiltere normal takvim göre bu mart ab resmen ayrıl gerek mart ab lider zirve nihai kararla git ist avrupa parlamento mart oturum türki ab müzakere askı alın iste ap rapor karşı oy ile kabul et bugün dışiş bakan çavuşoğlu avrupa birliğ türki ortaklık konsey toplantı katıl tüik bugün geçen yıl aralık ay ilişkin iş güc istatistik ile ocak ayı perakende satış ve ciro endeks açıkla tcmb de ocak ay ilişkin kısa vade dış borç istatistik duyur bini aşağı geç hedge şart de ancak bin sağlam destek yine de bin geç iyimser zor model itibari puan civar art bıst ise civar art gün başla öngör yatır ',\n",
       " 'banka uç havayol in dol güç devam ed dün de dol endeks daha değ kaybet ancak tl yine bu yararlan ve değ kaybed ye dayan dışar tl gibi rahat parala arjantin peso ve brezilya reali yine borsa önce gün gibi banka önder yüksel bıst endeks gün art seviye kapat banka endeks art endeks puan art garanti banka puanla akbank puanla katkı yap ancak gü en çok düş endeks kayıp ulaştır endeks ol pegasus thy düş thy mart beri gün düş aş ol fiyat düş yaban hiss satış etki ol ki hafta önce ol yabancı pa alt in ek de endonezya lion air ait boeing max uçağ düş ile kişi öl mart pazar gün de başkent addis ababa dan havalan dakika sonra boeing max uçağ düş ve fark uyruk kişi öl dünya en büyük uçak firma üretim kusur ol olmadık incel başla dünya havayolu firma da bu model uçak uç durdur thy de uçağ mart itibaren park et avrupa havacılık emniyet ajans easa avrupa birliğ genel uçak yasakla dün de amerikan federal sivil havacılık kur yeni kanıt ardından boeing max ve model geçici ol yasakla açıklama trump duyur ingiltere de parlamento alt kana avam kamara yapılan oyla ülke ab de anlaşma ayrıl her koşul redded teklif  karşı oyla kılpayı kabul ed bugün ile mart tarih ötele oyla zira bugün kadar bir anlaşma becer bari ötele zaman kazan ist tabi bu durum birleşik krallık ülke mayıs tarih avrupa parlamento seçim de katıl ki gerek maliyet ol bugün oyla karar çıkar bu talep mart brüksel ab zirve değerlendir bini aşağı geç hedge şart de ancak bin sağlam destek yine de bin geç iyimser zor model itibari ve bıst de yatay bir başlangıç öngör yatır ',\n",
       " 'akbank öner ekle nötr bank tarafından oran bağ ortaklığ ak finansal   öde sermaye bedel ol karşı suret mn tl artır mn tl mn tl yüksel husus gerek işlem yap üzere genel müdür yetkili kıl ziraat yatır ',\n",
       " 'hazin ve maliye bakanlığ milyon tl sermaye ile ipotek finansman kur kur kar ver konu yakın ekonomi yetkili ve kaynak ver bilgi göre kur kur banka ortak ol bek kaynakla banka yüz ortak ol bek diğer ortak da hazin maliye bakanlığ bıst ve ol söyle bir kaynak banka bazı kesin katıl ancak ortak ol diğer banka ara genel kurul onay al sonra katıl ol banka da var şu an list katıl iste banka liste de kaynak ver bilgi göre ortak ol bek banka ara ziraat banka iş banka yapı kredi halkbank vakıfbank emlak bank banka tskb garanti banka akbank ve teb ye al reuters ',\n",
       " 'norveç varlık fon yönet bank veri derle bilgi göre fon varlığ bir bölüm geçen yıl çeşitli alan faaliyet göster ve işlem gör fark ölçek şirket hisse yatır dünya en büyük varlık fon ol norveç varlık fon söz konu türk şirket hisse yap toplam yatır milyon do bul portföy aygaz aş kardemir karabük demir çelik sanayi ve ticaret aş tüpraş türki petrol rafineri aş petkim petrokimya holding aş ereğli demir ve çelik fabrika ulusoy elektrik imalat taahhüt ve ticaret aş ak enerji üretim aş ile enerjisa enerji aş ol üzere enerji şirket hisse ye al fon bu türk enerji şirket ortaklık hiss değer milyon dol ol kay geç varlık fon geçen yıl sonunda türki en büyük enerji yatır milyon bin do tüpraş türki petrol rafineri aş ol  milyon bin dol ereğli demir ve çelik fabrika hisse izle en büyük yatır garanti varlık fon türki yatırım en büyük pa türki garanti banka aş al garanti yüz hisse sahip ol fon söz konu banka toplam yatır milyon bin do bul söz konu yatır milyon do akbank milyon do birleşik mağaza aş ve milyon do türk hava yol ao yatırım izle fon türki portföy en büyük hiss pa ise yüz ün ortak ol mobilya sanayi ve ticaret aş hisse ol söz konu şirket hiss senet bağla toplam yatır miktar milyon do yaklaş türki bu yana küçük yatırım yap norveç varlık fon bu yana kaynak bir kısm yoğun şekil türk şirket hiss senet değerlendir fon trilyon dol değer devlet varlık fon itibaren ülke petrol ve doğalgaz üretim getiri yabancı ülke hiss senet tahvil ve emlak piyasa yatır yap fon strateji göre yatırım yüz  hiss senet yüz sabit getiri menkul kıymet ve yüz gayrimenkul yönlen ancak norveç hükümet hiss senet yapılan yatır pay yüz çıkar norveç hükümet fon gelir yüz ün kullan geri kal yüz kısım ise birik böylece norveç dış fazla ülke bin yakın firma yatır yap fon türki ilaç sanayii banka gıda iletişim hizmet ulaş ve beyaz eşya sektör faaliyet göster büyük şirket hisse de ilgilen fon değer eylül rekor kır ilk defa trilyon dol sınır aş geçen yıl varlık fon tarafından küresel piyasa en büyük yatırım ise microsoft apple ve amazon şirket yap ',\n",
       " 'bist iskonto ve cazip değerle işlem gör bu iskonto uzun vaded al potansiyel yarat kayded biz de kur hiss öneri al öneri aselsan garanti vakıfbank thy erdemir so sanayii tüpraş öne çık ocak kapan bist endeks haziran kapan gerçek ayı piyasa gir sonra döne ise yüz daha düş en dib gör gel ise ocak kapan bist geçen hafta şubat kapan ve bu süreç yüz getiri ulaş bist zayıf dol gerile uzun dönem faiz ve düşük değerle arka al altı çiz bu sonra süreç dikkat bist ün yeni zirve gör gör ol yatır müdür yunus kay bist ün geçen hafta ulaş teknik ol boğ piyasa gir bilgi ver bist seviye yüz yukarı denk gel kayded kay bu da eski zirve seviye ol belirt kay haziran bist yüz ol yabancı pay şu an yüz ol da belirt yüksel potansiyel dikkat çek bist iskonto ve cazip değerle işlem gör bu iskonto uzun vaded al potansiyel yarat kayded biz de kur hiss öneri al öneri aselsan garanti vakıfbank thy erdemir so sanayii tüpraş öne çık ',\n",
       " 'aa muhabir derle bilgi göre borsa işlem gör akbank denizbank garanti banka halkbank ıcbc turkey bank iş banka finansbank şekerbank vakıfbank ve yapı kredi konsolide olmayan toplam aktif büyük geçen yıl sonunda trilyon milyar milyon lira ulaş bir önce yıl son kıyasla milyar milyon lira art göster aktif büyük sonunda trilyon milyar milyon lira düzey bulun böylece aktif toplam son bir yıllık süreç yüz art göster banka karı yüz istanbul işlem gör mevduat banka net karı yıl göre yüz art milyar milyon bin lira ol banka milyar milyon bin lira net kar el et borsa işlem gör banka öz kaynak aynı döne yüz yüksel milyar milyon bin lira milyar milyon bin lira çık söz konu banka ortalama öz kaynak kar son itibarıyla yüz düzey gerçek finansbank ın kar art yüz borsa istanbul mevduat banka ara en fazla net karı milyar milyon tl ile iş banka el et net kar iş milyar milyon lira ile garanti banka ve milyar milyon lira ile akbank izle net kar yıl sonunda göre en çok artır bank finansbank ol kar art yüz ol finansbank  yüz ile ıcbc turkey bank ve yüz ile yapı kredi takip et aynı döne denizbank yüz vakıfbank yüz iş banka yüz ve garanti banka yüz kar art sağla söz konu döne net karı en fazla gerile bank yüz düş halkbank ol bu banka sırasıyla yüz azal şekerbank ve yüz azal akbank izle ortalama öz kaynak kar en yüksek bank ise finansbank ol geçen yıl son itibarıyla ortalama öz kaynak kar yüz düzey bulun finansbank  yüz ile vakıfbank ve yüz ile denizbank takip et ziraat aktif büyük milyar lira aş borsa istanbul işlem görmeyen ziraat milyar milyon tl ile türki en büyük aktif toplam sahip banka unvan sürdür geçen yıl sonunda banka net döne karı yıl son kıyasla yüz art milyar milyon lira milyar lira yüksel ziraat karı borsa istanbul mevduat banka toplam karın yaklaşık biri denk gel banka ortalama öz kaynak kar da haziran son itibarıyla yüz seviye gerçek türk banka sektör karı milyar ara banka ve kur bddk veri göre türk banka sektör döne net karı geçen yıl sonunda yıl kıyasla yüz art milyar milyon lira yüksel banka milyar milyon lira kar el et banka sektör yıl sonunda aktif büyük trilyon milyar milyon lira düzey ol ',\n",
       " 'bank hisse potansiyel var mı piyasa geçen hafta şubat cuma gece kredi derecelen kuruluş   türki ile ilgili yap değerlendir yansı başla   türki  ol uzun vade yabancı par not ve durağan ol görünüm değiştir kur finansal koşul sıkı ve yüksek enflasyon nedeniyle ekonomi yüz daral öngör açıkla   banka sektör için de değerlendir bulun kur banka türki mali pozisyon zayıfla risk art veya ekonomik büyü öngör seviye daha fazla daral durum kredi not düşür belirt izle noktala ara banka varlık kalite de ol belirt   son bir yıl banka finansal istikrar risk art vurgula bu banka varlık kalite yol aç belirt   sektör yönelik görüş böyle biz de bank bilanço analiz yap bilanço açıkla banka aktif mevduat kredile ve net kar görünüm tablo ol ye ver ayrıca yedi aracı kur bank hisse öner ve hedef fiyat da öğren yedi kur altı vakıfbank için de beş kur da akbank ve yapı kredi banka ykb için öneri bulun ',\n",
       " 'saban holding sınır negatif saban holding yıl son çeyrek ana ortaklık net döne karı bir önce yıl aynı dönem göre oran azal mn tl gerile ve hem biz beklenti ol mn tl hem de piyasa beklenti ol mn tl alt kal zayıf bir görüntü sergile son çeyrek kayded düşük kar rakam banka taraf bir önce yıl aynı dönem göre kayded düşük gel çimento taraf zayıf performans ve carrefoursa ile enerjisa şerefiye değ düş karşılık gider bağ oluş zarar ana etken ol son çeyrek kar rakam birlikte saban holding yıl ana ortaklık net döne karı mn tl ulaş ve bir önce yıl göre oran art kaydet ziraat yatır saban holding sınır negatif saban holding yıl son çeyrek ana ortaklık net döne karı bir önce yıl aynı dönem göre oran azal mn tl gerile ve hem biz beklenti ol mn tl hem de piyasa beklenti ol mn tl alt kal zayıf bir görüntü sergile son çeyrek kayded düşük kar rakam banka taraf bir önce yıl aynı dönem göre kayded düşük gel çimento taraf zayıf performans ve carrefoursa ile enerjisa şerefiye değ düş karşılık gider bağ oluş zarar ana etken ol ',\n",
       " 'fed sabır amb karar çıkmaz piyasa yön ara fed tutanak da faiz artırım konu fed başkan aceleci ol istemedik ekonomik risk ve bilanço küçült dair sabır ol gerek dair görüş teyit ed birlikte küresel piyasa geri dön risk iştah ve abd çin görüşme dair iyimser koru devam ed çıkmaz ve euro bölge yeniden bir para program orta koy koy dair belirsiz şimdilik göz ard ed gibi görün de avrupa borsa durum çok iç aç bu durum euro dol parite de yarat satıcı görünüm borsa istanbul direnc ihtimal baskıla da dol tl yaşa yüksel ardından üzerinde yatay ve zaman zaman satıcı görünüm bu durum azalt bist endeks tüm bu yaşa rağmen desteğ üzerinde dur başar gün direnc oldukça yakın bir seviye tamamla başar endeks gün sonunda puan yüksel ve değ art puan kapan gerçek banka sektör garanti halkbank ve akbank hisse değ art güç al endeks banka sektör ve holding sektör değ kazan endeks alıcı yön ver değ art sağla biliş sektör hisse ol veri ak açı içeri reel kes güven endeks ve imalat sanayi kapasite kullanım ora dış ise euro bölge enflasyon almanya büyü ve endeks takip ed endeks destek aş gerek hedef değer devam ed manşet ne var cumhurbaşkanı erdoğan ın muğla kışla genç merkezi ve fethiye meydan miting ol çin abd milyar dol ek tar ürün al teklif et fed bullard faiz art son yaklaş ve bilanço karar da birkaç toplantı içinde alın belirt merkez brüt döviz rezerv geçen hafta milyar do milyar do gerile yabancıla net milyon dol menkul kıymet sat yurt iç yerleşik döviz mevduat milyon dol art tcmb net uluslararası rezerv milyar do yüksel amb tutanak konu acele kar ver isten teknik yorum ve endeks dün hafif alıcı ol seviye üzer aç yap özellikle gü ikinci yarı banka sektör gelen alım öncü gün art seviye tamamla hafta son işlem gün takip ed direnç seviye ve ol destek seviye ise ve ol  capital yatır ']"
      ]
     },
     "execution_count": 10,
     "metadata": {},
     "output_type": "execute_result"
    }
   ],
   "source": [
    "data.content.head(10).tolist()"
   ]
  },
  {
   "cell_type": "code",
   "execution_count": null,
   "metadata": {
    "id": "n3BAdSJwiQ47"
   },
   "outputs": [],
   "source": []
  }
 ],
 "metadata": {
  "colab": {
   "name": "text_cleaner.ipynb",
   "provenance": []
  },
  "kernelspec": {
   "display_name": "myenv",
   "language": "python",
   "name": "myenv"
  },
  "language_info": {
   "codemirror_mode": {
    "name": "ipython",
    "version": 3
   },
   "file_extension": ".py",
   "mimetype": "text/x-python",
   "name": "python",
   "nbconvert_exporter": "python",
   "pygments_lexer": "ipython3",
   "version": "3.7.6"
  }
 },
 "nbformat": 4,
 "nbformat_minor": 4
}
